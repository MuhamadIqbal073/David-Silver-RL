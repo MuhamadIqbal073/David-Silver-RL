{
  "cells": [
    {
      "cell_type": "code",
      "execution_count": null,
      "metadata": {
        "id": "KQC0xE7btWa-"
      },
      "outputs": [],
      "source": [
        "import gym\n",
        "import numpy as np\n",
        "import sys\n",
        "\n",
        "from gym.envs.toy_text import CliffWalkingEnv"
      ]
    },
    {
      "cell_type": "code",
      "execution_count": null,
      "metadata": {
        "id": "WPAKslVatWa_"
      },
      "outputs": [],
      "source": [
        "env = CliffWalkingEnv()"
      ]
    },
    {
      "cell_type": "code",
      "execution_count": null,
      "metadata": {
        "colab": {
          "base_uri": "https://localhost:8080/"
        },
        "id": "zA3BjDOAtWbA",
        "outputId": "b460661c-ac4d-47e5-b4d5-1c831b523f6e"
      },
      "outputs": [
        {
          "output_type": "stream",
          "name": "stdout",
          "text": [
            "36\n",
            "(24, -1, False, False, {'prob': 1.0})\n",
            "(25, -1, False, False, {'prob': 1.0})\n",
            "(26, -1, False, False, {'prob': 1.0})\n",
            "(36, -100, False, False, {'prob': 1.0})\n"
          ]
        }
      ],
      "source": [
        "print(env.reset())\n",
        "env.render()\n",
        "\n",
        "print(env.step(0))\n",
        "env.render()\n",
        "\n",
        "print(env.step(1))\n",
        "env.render()\n",
        "\n",
        "print(env.step(1))\n",
        "env.render()\n",
        "\n",
        "print(env.step(2))\n",
        "env.render()"
      ]
    },
    {
      "cell_type": "code",
      "execution_count": null,
      "metadata": {
        "id": "b36JHRXGtWbB"
      },
      "outputs": [],
      "source": []
    },
    {
      "cell_type": "code",
      "execution_count": null,
      "metadata": {
        "id": "dpDPoT1OtWbB"
      },
      "outputs": [],
      "source": []
    }
  ],
  "metadata": {
    "kernelspec": {
      "display_name": "Python 2",
      "language": "python",
      "name": "python2"
    },
    "language_info": {
      "codemirror_mode": {
        "name": "ipython",
        "version": 2
      },
      "file_extension": ".py",
      "mimetype": "text/x-python",
      "name": "python",
      "nbconvert_exporter": "python",
      "pygments_lexer": "ipython2",
      "version": "2.7.12"
    },
    "colab": {
      "provenance": []
    }
  },
  "nbformat": 4,
  "nbformat_minor": 0
}