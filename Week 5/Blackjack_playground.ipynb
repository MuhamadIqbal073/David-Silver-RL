{
  "cells": [
    {
      "cell_type": "markdown",
      "metadata": {
        "id": "pPS6IBsgEUzk"
      },
      "source": [
        "# Aim\n",
        "Get familiarized with the Blackjack Environment"
      ]
    },
    {
      "cell_type": "code",
      "source": [
        "!git clone https://github.com/dalmia/David-Silver-Reinforcement-learning.git"
      ],
      "metadata": {
        "colab": {
          "base_uri": "https://localhost:8080/"
        },
        "id": "6X1PNuY0EX1g",
        "outputId": "bae1417b-6ec5-4524-93c4-71af46345ab4"
      },
      "execution_count": 1,
      "outputs": [
        {
          "output_type": "stream",
          "name": "stdout",
          "text": [
            "Cloning into 'David-Silver-Reinforcement-learning'...\n",
            "remote: Enumerating objects: 346, done.\u001b[K\n",
            "remote: Total 346 (delta 0), reused 0 (delta 0), pack-reused 346 (from 1)\u001b[K\n",
            "Receiving objects: 100% (346/346), 22.39 MiB | 28.66 MiB/s, done.\n",
            "Resolving deltas: 100% (160/160), done.\n"
          ]
        }
      ]
    },
    {
      "cell_type": "code",
      "execution_count": 54,
      "metadata": {
        "id": "J8M8pDVDEUzm"
      },
      "outputs": [],
      "source": [
        "import gym\n",
        "import numpy as np\n",
        "import sys\n",
        "if \"/content/David-Silver-Reinforcement-learning/lib/envs\" not in sys.path:\n",
        "    sys.path.append(\"/content/David-Silver-Reinforcement-learning/lib/envs\")\n",
        "\n",
        "from blackjack import BlackjackEnv"
      ]
    },
    {
      "cell_type": "code",
      "execution_count": 55,
      "metadata": {
        "id": "En9fdsBfEUzn"
      },
      "outputs": [],
      "source": [
        "# Get the environment\n",
        "env = gym.make('Blackjack-v1')"
      ]
    },
    {
      "cell_type": "code",
      "execution_count": 56,
      "metadata": {
        "id": "XOCoq3q_EUzn"
      },
      "outputs": [],
      "source": [
        "# Number of episodes to run\n",
        "n_episodes = 20\n",
        "\n",
        "# Number of iterations to run\n",
        "n_iter = 100"
      ]
    },
    {
      "cell_type": "code",
      "execution_count": 57,
      "metadata": {
        "id": "8hV19h1cEUzn"
      },
      "outputs": [],
      "source": [
        "def print_observation(observation):\n",
        "    \"\"\"\n",
        "    Print the observation in an interpretable format.\n",
        "\n",
        "    \"\"\"\n",
        "    score, dealer_score, usable_ace = observation\n",
        "    print('Player Score: {} (Usable ace: {}), Dealer Score: {}'.format(score, usable_ace, dealer_score))"
      ]
    },
    {
      "cell_type": "code",
      "execution_count": 58,
      "metadata": {
        "id": "-7YNpRcpEUzn"
      },
      "outputs": [],
      "source": [
        "def strategy(observation):\n",
        "    \"\"\"\n",
        "    Decide the action to take for the given observation.\n",
        "\n",
        "    \"\"\"\n",
        "    score, dealer_score, usable_ace = observation\n",
        "\n",
        "    # Action 1: Show the next card\n",
        "    # Action 0: Stop showing cards\n",
        "    # If score >= 20, return action = 0, else action = 1\n",
        "    return 0 if score >= 20 else 1"
      ]
    },
    {
      "cell_type": "code",
      "execution_count": 59,
      "metadata": {
        "colab": {
          "base_uri": "https://localhost:8080/"
        },
        "id": "tDgNnC5QEUzo",
        "outputId": "4f01d6d7-ffb7-4d52-fab5-526beac77a7e"
      },
      "outputs": [
        {
          "output_type": "stream",
          "name": "stdout",
          "text": [
            "Player Score: 15 (Usable ace: False), Dealer Score: 5\n",
            "Taking action Hit\n",
            "Player Score: 18 (Usable ace: False), Dealer Score: 5\n",
            "Taking action Hit\n",
            "Player Score: 22 (Usable ace: False), Dealer Score: 5\n",
            "Game ended. Reward = -1.0 \n",
            "\n",
            "Player Score: 15 (Usable ace: False), Dealer Score: 7\n",
            "Taking action Hit\n",
            "Player Score: 21 (Usable ace: False), Dealer Score: 7\n",
            "Taking action Stick\n",
            "Player Score: 21 (Usable ace: False), Dealer Score: 7\n",
            "Game ended. Reward = 1.0 \n",
            "\n",
            "Player Score: 21 (Usable ace: True), Dealer Score: 6\n",
            "Taking action Stick\n",
            "Player Score: 21 (Usable ace: True), Dealer Score: 6\n",
            "Game ended. Reward = 1.0 \n",
            "\n",
            "Player Score: 17 (Usable ace: False), Dealer Score: 1\n",
            "Taking action Hit\n",
            "Player Score: 25 (Usable ace: False), Dealer Score: 1\n",
            "Game ended. Reward = -1.0 \n",
            "\n",
            "Player Score: 13 (Usable ace: False), Dealer Score: 1\n",
            "Taking action Hit\n",
            "Player Score: 14 (Usable ace: False), Dealer Score: 1\n",
            "Taking action Hit\n",
            "Player Score: 15 (Usable ace: False), Dealer Score: 1\n",
            "Taking action Hit\n",
            "Player Score: 24 (Usable ace: False), Dealer Score: 1\n",
            "Game ended. Reward = -1.0 \n",
            "\n",
            "Player Score: 15 (Usable ace: False), Dealer Score: 5\n",
            "Taking action Hit\n",
            "Player Score: 20 (Usable ace: False), Dealer Score: 5\n",
            "Taking action Stick\n",
            "Player Score: 20 (Usable ace: False), Dealer Score: 5\n",
            "Game ended. Reward = 1.0 \n",
            "\n",
            "Player Score: 15 (Usable ace: False), Dealer Score: 10\n",
            "Taking action Hit\n",
            "Player Score: 22 (Usable ace: False), Dealer Score: 10\n",
            "Game ended. Reward = -1.0 \n",
            "\n",
            "Player Score: 12 (Usable ace: False), Dealer Score: 1\n",
            "Taking action Hit\n",
            "Player Score: 21 (Usable ace: False), Dealer Score: 1\n",
            "Taking action Stick\n",
            "Player Score: 21 (Usable ace: False), Dealer Score: 1\n",
            "Game ended. Reward = 1.0 \n",
            "\n",
            "Player Score: 16 (Usable ace: False), Dealer Score: 9\n",
            "Taking action Hit\n",
            "Player Score: 19 (Usable ace: False), Dealer Score: 9\n",
            "Taking action Hit\n",
            "Player Score: 28 (Usable ace: False), Dealer Score: 9\n",
            "Game ended. Reward = -1.0 \n",
            "\n",
            "Player Score: 8 (Usable ace: False), Dealer Score: 7\n",
            "Taking action Hit\n",
            "Player Score: 11 (Usable ace: False), Dealer Score: 7\n",
            "Taking action Hit\n",
            "Player Score: 21 (Usable ace: False), Dealer Score: 7\n",
            "Taking action Stick\n",
            "Player Score: 21 (Usable ace: False), Dealer Score: 7\n",
            "Game ended. Reward = 1.0 \n",
            "\n",
            "Player Score: 10 (Usable ace: False), Dealer Score: 5\n",
            "Taking action Hit\n",
            "Player Score: 17 (Usable ace: False), Dealer Score: 5\n",
            "Taking action Hit\n",
            "Player Score: 19 (Usable ace: False), Dealer Score: 5\n",
            "Taking action Hit\n",
            "Player Score: 21 (Usable ace: False), Dealer Score: 5\n",
            "Taking action Stick\n",
            "Player Score: 21 (Usable ace: False), Dealer Score: 5\n",
            "Game ended. Reward = 1.0 \n",
            "\n",
            "Player Score: 13 (Usable ace: False), Dealer Score: 2\n",
            "Taking action Hit\n",
            "Player Score: 23 (Usable ace: False), Dealer Score: 2\n",
            "Game ended. Reward = -1.0 \n",
            "\n",
            "Player Score: 12 (Usable ace: False), Dealer Score: 5\n",
            "Taking action Hit\n",
            "Player Score: 22 (Usable ace: False), Dealer Score: 5\n",
            "Game ended. Reward = -1.0 \n",
            "\n",
            "Player Score: 16 (Usable ace: False), Dealer Score: 10\n",
            "Taking action Hit\n",
            "Player Score: 26 (Usable ace: False), Dealer Score: 10\n",
            "Game ended. Reward = -1.0 \n",
            "\n",
            "Player Score: 21 (Usable ace: True), Dealer Score: 5\n",
            "Taking action Stick\n",
            "Player Score: 21 (Usable ace: True), Dealer Score: 5\n",
            "Game ended. Reward = 1.0 \n",
            "\n",
            "Player Score: 12 (Usable ace: True), Dealer Score: 4\n",
            "Taking action Hit\n",
            "Player Score: 12 (Usable ace: False), Dealer Score: 4\n",
            "Taking action Hit\n",
            "Player Score: 22 (Usable ace: False), Dealer Score: 4\n",
            "Game ended. Reward = -1.0 \n",
            "\n",
            "Player Score: 12 (Usable ace: False), Dealer Score: 6\n",
            "Taking action Hit\n",
            "Player Score: 20 (Usable ace: False), Dealer Score: 6\n",
            "Taking action Stick\n",
            "Player Score: 20 (Usable ace: False), Dealer Score: 6\n",
            "Game ended. Reward = -1.0 \n",
            "\n",
            "Player Score: 10 (Usable ace: False), Dealer Score: 3\n",
            "Taking action Hit\n",
            "Player Score: 15 (Usable ace: False), Dealer Score: 3\n",
            "Taking action Hit\n",
            "Player Score: 21 (Usable ace: False), Dealer Score: 3\n",
            "Taking action Stick\n",
            "Player Score: 21 (Usable ace: False), Dealer Score: 3\n",
            "Game ended. Reward = 1.0 \n",
            "\n",
            "Player Score: 12 (Usable ace: False), Dealer Score: 4\n",
            "Taking action Hit\n",
            "Player Score: 22 (Usable ace: False), Dealer Score: 4\n",
            "Game ended. Reward = -1.0 \n",
            "\n",
            "Player Score: 20 (Usable ace: False), Dealer Score: 10\n",
            "Taking action Stick\n",
            "Player Score: 20 (Usable ace: False), Dealer Score: 10\n",
            "Game ended. Reward = 1.0 \n",
            "\n"
          ]
        }
      ],
      "source": [
        "for i in range(n_episodes):\n",
        "    observation, _ = env.reset()\n",
        "\n",
        "    for it in range(n_iter):\n",
        "\n",
        "        print_observation(observation)\n",
        "        action = strategy(observation)\n",
        "        print(\"Taking action {}\".format([\"Stick\", \"Hit\"][action]))\n",
        "        # The step function can return 5 values. The fourth is truncated\n",
        "        observation, reward, done, truncated, _ = env.step(action)\n",
        "\n",
        "        # Termination\n",
        "        if done:\n",
        "            print_observation(observation)\n",
        "            print('Game ended. Reward = {} \\n'.format(float(reward)))\n",
        "            break"
      ]
    }
  ],
  "metadata": {
    "kernelspec": {
      "display_name": "Python 2",
      "language": "python",
      "name": "python2"
    },
    "language_info": {
      "codemirror_mode": {
        "name": "ipython",
        "version": 2
      },
      "file_extension": ".py",
      "mimetype": "text/x-python",
      "name": "python",
      "nbconvert_exporter": "python",
      "pygments_lexer": "ipython2",
      "version": "2.7.12"
    },
    "colab": {
      "provenance": []
    }
  },
  "nbformat": 4,
  "nbformat_minor": 0
}