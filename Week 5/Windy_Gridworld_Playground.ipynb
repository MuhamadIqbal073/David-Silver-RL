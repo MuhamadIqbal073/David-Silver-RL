{
  "cells": [
    {
      "cell_type": "code",
      "source": [
        "!git clone https://github.com/dalmia/David-Silver-Reinforcement-learning.git"
      ],
      "metadata": {
        "colab": {
          "base_uri": "https://localhost:8080/"
        },
        "id": "eS4ik8SGK-C5",
        "outputId": "20cf0852-dbdb-4294-df66-018b11b9d347"
      },
      "execution_count": 2,
      "outputs": [
        {
          "output_type": "stream",
          "name": "stdout",
          "text": [
            "Cloning into 'David-Silver-Reinforcement-learning'...\n",
            "remote: Enumerating objects: 346, done.\u001b[K\n",
            "remote: Total 346 (delta 0), reused 0 (delta 0), pack-reused 346 (from 1)\u001b[K\n",
            "Receiving objects: 100% (346/346), 22.39 MiB | 9.18 MiB/s, done.\n",
            "Resolving deltas: 100% (160/160), done.\n"
          ]
        }
      ]
    },
    {
      "cell_type": "code",
      "execution_count": 8,
      "metadata": {
        "id": "cnbOdj4NK8vJ"
      },
      "outputs": [],
      "source": [
        "import gym\n",
        "import numpy as np\n",
        "import sys\n",
        "\n",
        "if \"/content/David-Silver-Reinforcement-learning/lib/envs\" not in sys.path:\n",
        "  sys.path.append(\"//content/David-Silver-Reinforcement-learning/lib/envs\")\n",
        "\n",
        "from windy_gridworld import WindyGridworldEnv"
      ]
    },
    {
      "cell_type": "code",
      "execution_count": 9,
      "metadata": {
        "colab": {
          "base_uri": "https://localhost:8080/"
        },
        "id": "HIktDdHbK8vL",
        "outputId": "4efd67f8-2a64-4885-a0c5-817386cd3ee3"
      },
      "outputs": [
        {
          "output_type": "stream",
          "name": "stdout",
          "text": [
            "30\n",
            "o  o  o  o  o  o  o  o  o  o\n",
            "o  o  o  o  o  o  o  o  o  o\n",
            "o  o  o  o  o  o  o  o  o  o\n",
            "x  o  o  o  o  o  o  T  o  o\n",
            "o  o  o  o  o  o  o  o  o  o\n",
            "o  o  o  o  o  o  o  o  o  o\n",
            "o  o  o  o  o  o  o  o  o  o\n",
            "\n",
            "(31, -1.0, False, {})\n",
            "o  o  o  o  o  o  o  o  o  o\n",
            "o  o  o  o  o  o  o  o  o  o\n",
            "o  o  o  o  o  o  o  o  o  o\n",
            "o  x  o  o  o  o  o  T  o  o\n",
            "o  o  o  o  o  o  o  o  o  o\n",
            "o  o  o  o  o  o  o  o  o  o\n",
            "o  o  o  o  o  o  o  o  o  o\n",
            "\n",
            "(32, -1.0, False, {})\n",
            "o  o  o  o  o  o  o  o  o  o\n",
            "o  o  o  o  o  o  o  o  o  o\n",
            "o  o  o  o  o  o  o  o  o  o\n",
            "o  o  x  o  o  o  o  T  o  o\n",
            "o  o  o  o  o  o  o  o  o  o\n",
            "o  o  o  o  o  o  o  o  o  o\n",
            "o  o  o  o  o  o  o  o  o  o\n",
            "\n",
            "(33, -1.0, False, {})\n",
            "o  o  o  o  o  o  o  o  o  o\n",
            "o  o  o  o  o  o  o  o  o  o\n",
            "o  o  o  o  o  o  o  o  o  o\n",
            "o  o  o  x  o  o  o  T  o  o\n",
            "o  o  o  o  o  o  o  o  o  o\n",
            "o  o  o  o  o  o  o  o  o  o\n",
            "o  o  o  o  o  o  o  o  o  o\n",
            "\n",
            "(33, -1.0, False, {})\n",
            "o  o  o  o  o  o  o  o  o  o\n",
            "o  o  o  o  o  o  o  o  o  o\n",
            "o  o  o  o  o  o  o  o  o  o\n",
            "o  o  o  x  o  o  o  T  o  o\n",
            "o  o  o  o  o  o  o  o  o  o\n",
            "o  o  o  o  o  o  o  o  o  o\n",
            "o  o  o  o  o  o  o  o  o  o\n",
            "\n",
            "(24, -1.0, False, {})\n",
            "o  o  o  o  o  o  o  o  o  o\n",
            "o  o  o  o  o  o  o  o  o  o\n",
            "o  o  o  o  x  o  o  o  o  o\n",
            "o  o  o  o  o  o  o  T  o  o\n",
            "o  o  o  o  o  o  o  o  o  o\n",
            "o  o  o  o  o  o  o  o  o  o\n",
            "o  o  o  o  o  o  o  o  o  o\n",
            "\n",
            "(15, -1.0, False, {})\n",
            "o  o  o  o  o  o  o  o  o  o\n",
            "o  o  o  o  o  x  o  o  o  o\n",
            "o  o  o  o  o  o  o  o  o  o\n",
            "o  o  o  o  o  o  o  T  o  o\n",
            "o  o  o  o  o  o  o  o  o  o\n",
            "o  o  o  o  o  o  o  o  o  o\n",
            "o  o  o  o  o  o  o  o  o  o\n",
            "\n"
          ]
        }
      ],
      "source": [
        "env = WindyGridworldEnv()\n",
        "\n",
        "print(env.reset())\n",
        "env.render()\n",
        "\n",
        "print(env.step(1))\n",
        "env.render()\n",
        "\n",
        "print(env.step(1))\n",
        "env.render()\n",
        "\n",
        "print(env.step(1))\n",
        "env.render()\n",
        "\n",
        "print(env.step(2))\n",
        "env.render()\n",
        "\n",
        "print(env.step(1))\n",
        "env.render()\n",
        "\n",
        "print(env.step(1))\n",
        "env.render()"
      ]
    },
    {
      "cell_type": "code",
      "execution_count": null,
      "metadata": {
        "id": "1hnctG-SK8vM"
      },
      "outputs": [],
      "source": []
    }
  ],
  "metadata": {
    "kernelspec": {
      "display_name": "Python 3",
      "name": "python3"
    },
    "language_info": {
      "name": "python"
    },
    "colab": {
      "provenance": []
    }
  },
  "nbformat": 4,
  "nbformat_minor": 0
}